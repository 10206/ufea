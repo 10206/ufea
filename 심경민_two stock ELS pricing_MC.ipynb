{
 "cells": [
  {
   "cell_type": "code",
   "execution_count": 1,
   "id": "a76304d0",
   "metadata": {},
   "outputs": [],
   "source": [
    "import numpy as np"
   ]
  },
  {
   "cell_type": "code",
   "execution_count": 2,
   "id": "f1939924",
   "metadata": {},
   "outputs": [],
   "source": [
    "def twostock_ELS(r, T, vol, security_price, s, dividend,exercise_return, exercise_condition, barrier,correlation, simul_num):\n",
    "    K = exercise_condition\n",
    "    dt = 1/252\n",
    "    t = 252*T\n",
    "    np.random.seed(0)\n",
    "    \n",
    "    num = [0,0,0,0,0,0,0] #각 경우의 수가 담길 list 이후 이를 통해 각 경우의 확률을 구함\n",
    "    payoff = [security_price * (1+i*exercise_return/2) for i in range (6)] #payoff가 knock in을 제외하고는 정해져 있으므로 list로 만듦\n",
    "    discount = [np.exp(-r*i*T/6) for i in range (1,7)]\n",
    "    \n",
    "    loss_ratio = []\n",
    "    \n",
    "    ki_payoff = []\n",
    "    s10 = s[0]\n",
    "    s20 = s[1]\n",
    "    rho = correlation\n",
    "    d = dividend\n",
    "    for i in range (simul_num):\n",
    "        s1 = s10\n",
    "        s2 = s20\n",
    "        s1_path = [s1]\n",
    "        s2_path = [s2]\n",
    "\n",
    "        for j in range (t):\n",
    "            u = np.random.standard_normal()\n",
    "            v = np.random.standard_normal()\n",
    "            ep1 = u\n",
    "            ep2 = rho*u + np.sqrt(1-rho**2)*v\n",
    "            s1 = s1*np.exp(r*dt+vol[0]*ep1*np.sqrt(dt))\n",
    "            s1_path.append(s1)\n",
    "            s2 = s2*np.exp(r*dt+vol[1]*ep2*np.sqrt(dt))\n",
    "            s2_path.append(s2)\n",
    "            \n",
    "        if s1_path[int(t/6)] >= s10 * K[0] and s2_path[int(t/6)] >= s20 * K[0]:\n",
    "            num[0] += 1\n",
    "        elif s1_path[int(t/3)] >= s10 * K[1] and s2_path[int(t/3)] >= s20 * K[1]:\n",
    "            num[1] += 1\n",
    "        elif s1_path[int(t/2)] >= s10 * K[2] and s2_path[int(t/2)] >= s20 * K[2]:\n",
    "            num[2] += 1\n",
    "        elif s1_path[int(t*2/3)] >= s10 * K[3] and s2_path[int(t*2/3)] >= s20 * K[3]:\n",
    "            num[3] += 1\n",
    "        elif s1_path[int(t*5/6)] >= s10 * K[4] and s2_path[int(t*5/6)] >= s20 * K[4]:\n",
    "            num[4] += 1\n",
    "        elif s1_path[t] < s10 * K[5] or s2_path[t] < s20 * K[5]: # 70% 미만인 경우\n",
    "            if min(s1_path) < s10 * barrier or min(s2_path) < s20 * barrier: #knock in 됐을 때\n",
    "                num[6] += 1\n",
    "                loss = [s1/s10, s2/s20]\n",
    "\n",
    "                ki_payoff.append(min(loss)*security_price) #둘 중 손실률이 더 높은 걸 채택해서 증권가액에 곱해 payoff로 취급\n",
    "                \n",
    "            elif min(s1_path) >= s10 * barrier and min(s2_path) >= s20 * barrier:# knock in은 아닐 때\n",
    "                num[5] += 1\n",
    "        elif s1_path[t] >= s10 * K[5] and s2_path[t] >= s20 * K[5]:\n",
    "            num[5] += 1\n",
    "    \n",
    "    ki_payoff = np.array(ki_payoff)\n",
    "    payoff.append(ki_payoff.mean()) # 한 번에 계산하기 위해 payoff 리스트에 knock in payoff 넣음\n",
    "    each_pr = [num[i]/simul_num for i in range(7)] # 각 조건의 확률을 가진 리스트\n",
    "    temp = [discount[i] * each_pr[i] * payoff[i] for i in range (6)] # 할인, 확률, payoff가 들어간 리스트\n",
    "    temp.append(discount[5] * each_pr[6] * payoff[6])\n",
    "    ELS_price = sum(temp) # 합하면 기댓값\n",
    "    \n",
    "    return ELS_price\n",
    "            \n",
    "    "
   ]
  },
  {
   "cell_type": "code",
   "execution_count": 11,
   "id": "3abcac76",
   "metadata": {},
   "outputs": [],
   "source": [
    "interest = np.log(1.037) # 1년물 이자율, 상수\n",
    "T = 3\n",
    "vol =[0.1795866657, 0.3391402795] # 각 6개월 변동성. 블랙숄즈 가정이므로 고정\n",
    "security = 10000 #증권가액\n",
    "s = [328.22, 2510.06] # 5월 9일자 기초자산의 가격\n",
    "dividend = 0\n",
    "exercise_return = 0.11 #연 11.00%\n",
    "exercise_condition = [0.92, 0.9, 0.85,0.8,0.75,0.7]\n",
    "barrier = 0.55\n",
    "correlation = 0.5174259669 #기초자산 간 상관계수\n",
    "simul_num = 4000\n",
    "\n"
   ]
  },
  {
   "cell_type": "code",
   "execution_count": 12,
   "id": "8e67dc9f",
   "metadata": {},
   "outputs": [
    {
     "name": "stdout",
     "output_type": "stream",
     "text": [
      "9546.458499515407\n"
     ]
    }
   ],
   "source": [
    "ELS_price = twostock_ELS(interest, T, vol, security, s, dividend, exercise_return, exercise_condition, barrier, correlation, simul_num)\n",
    "print(ELS_price)"
   ]
  },
  {
   "cell_type": "code",
   "execution_count": null,
   "id": "e5218e48",
   "metadata": {},
   "outputs": [],
   "source": []
  }
 ],
 "metadata": {
  "kernelspec": {
   "display_name": "Python 3 (ipykernel)",
   "language": "python",
   "name": "python3"
  },
  "language_info": {
   "codemirror_mode": {
    "name": "ipython",
    "version": 3
   },
   "file_extension": ".py",
   "mimetype": "text/x-python",
   "name": "python",
   "nbconvert_exporter": "python",
   "pygments_lexer": "ipython3",
   "version": "3.9.12"
  }
 },
 "nbformat": 4,
 "nbformat_minor": 5
}
