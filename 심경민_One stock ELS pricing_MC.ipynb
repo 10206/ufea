{
 "cells": [
  {
   "cell_type": "code",
   "execution_count": 97,
   "id": "7054b4ef",
   "metadata": {},
   "outputs": [],
   "source": [
    "import numpy as np"
   ]
  },
  {
   "cell_type": "code",
   "execution_count": 170,
   "id": "ccf9b37c",
   "metadata": {},
   "outputs": [],
   "source": [
    "def E_P(stock_price,security_price, interest, vol, K, T, simulation_num, barrier,return_rate, dividend_rate):\n",
    "    # 함수 하나로 price가 바로 나올 수 있게 simulation 수도 함수 안에 포함해서 simulation을 한 방에 실행\n",
    "    dt = 1/252\n",
    "    payoff = [security_price*(1+return_rate*i/2) for i in range(1,7)] # 조기상환 시에 payoff가 정해져있기 때문에 list로 미리 만듦\n",
    "    num=[0,0,0,0,0,0,0] # 각 조건에서의 횟수를 담을 list\n",
    "    s0 = stock_price\n",
    "    r = interest\n",
    "    sigma = vol\n",
    "    d = dividend_rate\n",
    "    discount = [np.exp(-(r-d)*T*i/len(K)) for i in range(1,7)] #[exp(-r/2), exp(-r), ... , exp(-3r)]\n",
    "    ep_list= []\n",
    "    t = T*252\n",
    "    ki_stock_sum = 0\n",
    "    np.random.seed(0)\n",
    "    for i in range(simulation_num):\n",
    "        s = s0 #초기화\n",
    "        s_path=[]\n",
    "        for k in range(t+1):\n",
    "\n",
    "            ep = np.random.standard_normal()\n",
    "            ep_list.append(ep)\n",
    "            \n",
    "            s = s * np.exp((r-0.5*sigma**2)*dt + sigma*ep*np.sqrt(dt))\n",
    "            s_path.append(s)\n",
    "            \n",
    "        if s_path[int(t/6)] >= s0 * K[0]: #252는 6의 배수임\n",
    "            num[0] += 1\n",
    "\n",
    "        elif s_path[int(t/3)] >= s0 * K[1]:\n",
    "            num[1] += 1\n",
    "\n",
    "        elif s_path[int(t/2)] >= s0 * K[2]:\n",
    "            num[2] += 1\n",
    "\n",
    "        elif s_path[int(t*2/3)] >= s0 * K[3]:\n",
    "            num[3] += 1\n",
    "\n",
    "        elif s_path[int(t*5/6)] >= s0 * K[4]:\n",
    "            num[4] += 1\n",
    "\n",
    "        \n",
    "        elif min(s_path) <= s0 * barrier:\n",
    "            \n",
    "            if s_path[int(t)] >= s0 * K[5]:\n",
    "                    num[5] += 1\n",
    "                    \n",
    "            else:\n",
    "                ki_stock_sum = ki_stock_sum + s\n",
    "                num[6] += 1\n",
    "    ki_stock_ex = ki_stock_sum/num[6]\n",
    "    loss_ratio = ki_stock_ex/s0\n",
    "    \n",
    "    weight = [num[i]/simulation_num*discount[i] for i in range(6)]\n",
    "    weight.append(num[6]*discount[5]/simulation_num)\n",
    "    result = [weight[i]*payoff[i] for i in range(6)]\n",
    "    result.append(weight[6]*security_price*loss_ratio)\n",
    "    ELS_price = sum(result)\n",
    "    \n",
    "    \n",
    "    return ELS_price\n"
   ]
  },
  {
   "cell_type": "code",
   "execution_count": 131,
   "id": "6a88c3df",
   "metadata": {},
   "outputs": [],
   "source": [
    "# 각 parameter들 설정\n",
    "stock_price = 726000 # 23.5.8자 LG화학 종가, 계약서에서 종가를 사용한다고 명시하였기 때문에 종가를 사용, Q. 보통 종가를 사용하나 ?\n",
    "security_price = 10000\n",
    "interest = np.log(1.034) # 금투협 채권정보센터 나이스 피앤아이 5.8일자 1년물 채권의 수익률\n",
    "vol = 0.4217\n",
    "K = np.array([0.9,0.85,0.8,0.8,0.75,0.75]) # 각 조기행사 조건\n",
    "T = 3 # 23~26년까지 3년\n",
    "simulation_num = 1000 # 몇 번이 최적의 simul 횟수일까 ?\n",
    "barrier = 0.4 # ELS의 가치가 없어지는 지점. 40%로 설정\n",
    "return_rate = 0.1136 # 연 수익률 11.36%\n",
    "dividend_rate = np.log(1.0147)# 연 배당수익률 1.47%"
   ]
  },
  {
   "cell_type": "code",
   "execution_count": 171,
   "id": "e93ab610",
   "metadata": {},
   "outputs": [
    {
     "name": "stdout",
     "output_type": "stream",
     "text": [
      "([6218.531096291467, 1398.8022220502899, 682.6706724118831, 413.635337571692, 330.72847774358087, 152.05356683899808, 401.71883552098546], 9598.140208428898)\n"
     ]
    }
   ],
   "source": [
    "price = E_P(stock_price, security_price, interest, vol, K, T, simulation_num, barrier, return_rate, dividend_rate)\n",
    "print(price)\n",
    "\n",
    "# 시뮬레이션이 잘못돌아가고 있음, 한 쪽으로 몰리는 현상이 생김"
   ]
  }
 ],
 "metadata": {
  "kernelspec": {
   "display_name": "Python 3 (ipykernel)",
   "language": "python",
   "name": "python3"
  },
  "language_info": {
   "codemirror_mode": {
    "name": "ipython",
    "version": 3
   },
   "file_extension": ".py",
   "mimetype": "text/x-python",
   "name": "python",
   "nbconvert_exporter": "python",
   "pygments_lexer": "ipython3",
   "version": "3.9.12"
  }
 },
 "nbformat": 4,
 "nbformat_minor": 5
}
