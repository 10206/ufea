{
 "cells": [
  {
   "cell_type": "code",
   "execution_count": 4,
   "id": "cadd5efa",
   "metadata": {},
   "outputs": [],
   "source": [
    "import numpy as np"
   ]
  },
  {
   "cell_type": "code",
   "execution_count": 35,
   "id": "88cfc0be",
   "metadata": {},
   "outputs": [],
   "source": [
    "def els_price(stock_price, security_price, maturity, vol, interest, dividend_rate, barrier_level, K, profit):\n",
    "    s0 = stock_price\n",
    "    T = maturity\n",
    "    sigma = vol\n",
    "    d = dividend_rate\n",
    "    b = barrier_level\n",
    "    payoff = [i*profit/2 for i in range(1,7)]\n",
    "    r = interest\n",
    "    exercise_date = [252*i/2 for i in range(1,7)]\n",
    "    dt = 1/252\n",
    "    nth = len(exercise_date) - 1\n",
    "\n",
    "    s_max = s0 * 5\n",
    "    #브라우니안 모션을 가정하면, ELS 동안 가장 높게 올라갈 수 있는 건 1차 조기 상환일까지 주가가 계속 올라가기만 했을 때의 주가이다.\n",
    "    #Normal 분포이기 때문에 올라갈 수 있는 주가가 무한하다.. 브라우니안으로 잡는건 문제가 있다.\n",
    "    s_min = 0\n",
    "    Jsize = 1000\n",
    "    s_arr = np.linspace(s_min,s_max,Jsize+1)\n",
    "    h = (s_max-s_min)/Jsize\n",
    "    \n",
    "    t_min, t_max = 0, T*252\n",
    "    Nsize = t_max - t_min\n",
    "    t_arr = np.arange(t_min, t_max + 1)\n",
    "    k = dt\n",
    "    \n",
    "    u = np.empty((Nsize + 1, Jsize + 1)) # knock in 안 된 ELS Value 격자\n",
    "    knockin_u = np.empty((Nsize + 1, Jsize + 1)) # knock in 된 ELS Value 격자\n",
    "    \n",
    "    #초기조건에 대한 값을 두 격자판에 입력\n",
    "    #만기에서 조기상환조건을 만족하면 full dummy 그리고 barrier를 안쳤어도 full dummy, barrier를 쳤으면 s 그대로 나옴\n",
    "    T_payoff_u = [1 + payoff[-1] if s >= s0 * K[-1] else 1 + payoff[-1] if s >= s0 * b else s for s in s_arr] # s가 아니라 s/s0아닌가 ?\n",
    "    #만기에서 조기상환조건을 만족하면 full dummy인데, 조기상환조건 만족못하면 knock in 된거니까 가차없이 손실을 뱉어냄\n",
    "    T_payoff_knockin_u = [1 + payoff[-1] if s >= s0 * K[-1] else s/s0 for s in s_arr]\n",
    "    \n",
    "    u[-1,:] = np.array(T_payoff_u)\n",
    "    knockin_u[-1, :] = np.array(T_payoff_knockin_u)\n",
    "    \n",
    "    #앞으로 돌면서 격자판을 채워나감, 계수들을 먼저 채우고, ELS value 값을 채움\n",
    "    #계수들\n",
    "    #블로그에는 S_j를 돌리는데, 손으로 계산해봤을 때는, j가 그대로 들어감, S_j = S변화량 * j 이거 때문에.\n",
    "    coef = np.array([1+sigma**2 * i**2 * dt + r * dt for i in range (1,Jsize)])\n",
    "    coef_upper = np.array([-(1/2*sigma**2 * i**2 * dt + r/2*dt*i) for i in range(1,Jsize)])\n",
    "    coef_under = np.array([-(1/2*sigma**2 * i**2 * dt - r/2*dt*i) for i in range(1,Jsize)])\n",
    "\n",
    "    #경계조건을 고려한 계수, S_max에서는 감마중립\n",
    "    coef[0] = 2 * coef_under[0] + coef[0]\n",
    "    coef_upper[0] = - coef_under[0] + coef_upper[0]\n",
    "    \n",
    "    coef[-1] = coef[-1] + 2 * coef_upper[-1]\n",
    "    coef_under[-1] = coef_under[-1] - coef_upper[-1]\n",
    "    \n",
    "    \n",
    "    for i in range (Nsize + 1)[::-1]:\n",
    "        #뒤에서 앞으로 가면서 한 줄씩(세로로) 채워나간다. 이때 J(주가)는 경계 빼고 나머지 부분을 채워나감\n",
    "        known_u, known_ku = u[i, 1:Jsize], knockin_u[i, 1:Jsize]\n",
    "        #채운부분을 통해 thomas 알고리즘으로 앞 시점 모르는 줄을 채워나감\n",
    "        unknown_u, unknown_ku = thomas(coef_under, coef, coef_upper, known_u), thomas(coef_under, coef, coef_upper, known_ku)\n",
    "        \n",
    "        u[i-1,1:Jsize] = unknown_u\n",
    "        knockin_u[i-1, 1:Jsize] = unknown_ku\n",
    "        \n",
    "        #n-1시점, boundary에 있는 값들을 채워준 값들로 만들어줌. 채운건 1~Jsize까지 였으니까 0와 -1은 비어있는 상태\n",
    "        u[i - 1, 0] = 2 * u[i - 1, 1] - u[i - 1, 2]\n",
    "        u[i - 1, -1] = 2 * u[i - 1, -2] - u[i - 1, -3]\n",
    "\n",
    "        knockin_u[i - 1, 0] = 2 * knockin_u[i - 1, 1] - knockin_u[i - 1, 2]\n",
    "        knockin_u[i - 1, -1] = 2 * knockin_u[i - 1, -2] - knockin_u[i - 1, -3]\n",
    "\n",
    "        #knock in과 not knock in을 결합\n",
    "        u[i - 1, :] = np.where(s_arr >= s0*b, u[i - 1, :], knockin_u[i - 1, :])\n",
    "    \n",
    "        #조기상환 시점이 되었을 때\n",
    "        if i == exercise_date[nth]:\n",
    "            u[i, :] = np.where(s_arr >= s0 * K[nth], 1 + payoff[nth], u[i, :])\n",
    "            knockin_u[i, :] = np.where(s_arr >= s0 * K[nth], 1 + payoff[nth], knockin_u[i, :])\n",
    "            nth-= 1\n",
    "\n",
    "        ELS_value = np.interp(stock_price, s_arr, u[0, :])\n",
    "        \n",
    "        return ELS_value"
   ]
  },
  {
   "cell_type": "code",
   "execution_count": 7,
   "id": "27b517c5",
   "metadata": {},
   "outputs": [],
   "source": [
    "def thomas(a, b, c, d):\n",
    "    \"\"\" A is the tridiagnonal coefficient matrix and d is the RHS matrix\"\"\"\n",
    "    \"\"\"\n",
    "    a is lower diagonal a2,a3,..,a_N, meaning\n",
    "    b is diagonal b1,b2,b3,..,b_N meaning\n",
    "    c is upper diagonal c1,c2,c3,.. c_{N-1} meaning\n",
    "    \"\"\"\n",
    "    N = len(a)\n",
    "    cp = np.zeros(N, dtype='float64')  # store tranformed c or c'\n",
    "    dp = np.zeros(N, dtype='float64')  # store transformed d or d'\n",
    "    X = np.zeros(N, dtype='float64')  # store unknown coefficients\n",
    "\n",
    "    # Perform Forward Sweep\n",
    "    # Equation 1 indexed as 0 in python\n",
    "    cp[0] = c[0] / b[0]\n",
    "    dp[0] = d[0] / b[0]\n",
    "    # Equation 2, ..., N (indexed 1 - N-1 in Python)\n",
    "    for i in np.arange(1, (N), 1):\n",
    "        dnum = b[i] - a[i] * cp[i - 1]\n",
    "        cp[i] = c[i] / dnum\n",
    "        dp[i] = (d[i] - a[i] * dp[i - 1]) / dnum\n",
    "\n",
    "    # Perform Back Substitution\n",
    "    X[(N - 1)] = dp[N - 1]  # Obtain last xn\n",
    "\n",
    "    for i in np.arange((N - 2), -1, -1):  # use x[i+1] to obtain x[i]\n",
    "        X[i] = (dp[i]) - (cp[i]) * (X[i + 1])\n",
    "\n",
    "    return (X)"
   ]
  },
  {
   "cell_type": "code",
   "execution_count": 33,
   "id": "a14485b8",
   "metadata": {},
   "outputs": [],
   "source": [
    "#parameter들\n",
    "stock_price = 726000\n",
    "sp = 10000\n",
    "mat = 3\n",
    "vol = 0.4217\n",
    "interest = 0.034\n",
    "div = 0.017\n",
    "barrier = 0.4\n",
    "K = [0.9, 0.85, 0.8, 0.8, 0.75, 0.75]\n",
    "profit = 0.1136 #연 11.36%\n",
    "\n"
   ]
  },
  {
   "cell_type": "code",
   "execution_count": 36,
   "id": "b8402052",
   "metadata": {},
   "outputs": [
    {
     "name": "stdout",
     "output_type": "stream",
     "text": [
      "0.0\n"
     ]
    }
   ],
   "source": [
    "ELS_price = els_price(stock_price, sp, mat, vol, interest, div, barrier, K, profit)\n",
    "print(ELS_price)"
   ]
  },
  {
   "cell_type": "code",
   "execution_count": null,
   "id": "e23a4cc7",
   "metadata": {},
   "outputs": [],
   "source": []
  }
 ],
 "metadata": {
  "kernelspec": {
   "display_name": "Python 3 (ipykernel)",
   "language": "python",
   "name": "python3"
  },
  "language_info": {
   "codemirror_mode": {
    "name": "ipython",
    "version": 3
   },
   "file_extension": ".py",
   "mimetype": "text/x-python",
   "name": "python",
   "nbconvert_exporter": "python",
   "pygments_lexer": "ipython3",
   "version": "3.9.12"
  }
 },
 "nbformat": 4,
 "nbformat_minor": 5
}
